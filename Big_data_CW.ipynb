{
 "cells": [
  {
   "cell_type": "code",
   "execution_count": 0,
   "metadata": {
    "application/vnd.databricks.v1+cell": {
     "cellMetadata": {
      "byteLimit": 2048000,
      "rowLimit": 10000
     },
     "inputWidgets": {},
     "nuid": "6ed64f14-d625-4109-bcdd-0e5d143ec072",
     "showTitle": false,
     "tableResultSettingsMap": {},
     "title": ""
    }
   },
   "outputs": [],
   "source": [
    "#----- Importing the required libraries -----#\n",
    "import pandas as pd\n",
    "import numpy as np\n",
    "import matplotlib.pyplot as plt\n",
    "import seaborn as sns\n",
    "import time\n",
    "from pyspark.sql.functions import input_file_name, regexp_extract, split, col, monotonically_increasing_id, floor, concat_ws, count, to_timestamp, size, hour, when, pandas_udf, PandasUDFType, collect_list, struct \n",
    "from pyspark.sql.types import StructType, StructField, StringType, DoubleType, TimestampType, IntegerType\n",
    "from sklearn.cluster import DBSCAN\n",
    "from sklearn.preprocessing import StandardScaler\n",
    "from sklearn.metrics import silhouette_score\n",
    "from matplotlib.colors import LinearSegmentedColormap\n",
    "from scipy.interpolate import interp1d"
   ]
  },
  {
   "cell_type": "markdown",
   "metadata": {
    "application/vnd.databricks.v1+cell": {
     "cellMetadata": {},
     "inputWidgets": {},
     "nuid": "72b89870-5ad8-4497-baeb-1619d3027a4b",
     "showTitle": false,
     "tableResultSettingsMap": {},
     "title": ""
    }
   },
   "source": [
    "### Data Preprocessing\n",
    "\n",
    "The above block processes raw `.plt` files from the Geolife dataset to extract usable spatiotemporal trajectory data:\n",
    "\n",
    "- **Reading Raw Files:** Loads all trajectory files as plain text from the dataset directory using Spark.\n",
    "- **Metadata Removal:** Filters out non-data rows that are part of the `.plt` file headers (e.g., `WGS`, `Altitude`, etc.).\n",
    "- **Column Parsing:** Splits each valid line into structured fields: latitude, longitude, altitude, date, and time.\n",
    "- **Extracting IDs:** Uses regular expressions to extract `user_id` and `traj_id` from the file paths.\n",
    "- **Timestamp Construction:** Merges the `date` and `time` columns into a single `timestamp` column for time-based processing.\n",
    "- **Cleanup & Optimization:** Drops the original `date` and `time` columns and caches the result for improved performance in subsequent operations."
   ]
  },
  {
   "cell_type": "code",
   "execution_count": 0,
   "metadata": {
    "application/vnd.databricks.v1+cell": {
     "cellMetadata": {
      "byteLimit": 2048000,
      "rowLimit": 10000
     },
     "inputWidgets": {},
     "nuid": "50c7162d-ecc5-4b98-97d5-98498b56327a",
     "showTitle": false,
     "tableResultSettingsMap": {},
     "title": ""
    }
   },
   "outputs": [
    {
     "output_type": "stream",
     "name": "stdout",
     "output_type": "stream",
     "text": [
      "+---------+----------+--------+-------+------------------+-------------------+\n|      lat|       lon|altitude|user_id|           traj_id|          timestamp|\n+---------+----------+--------+-------+------------------+-------------------+\n|39.894227|116.314732|   492.0|    135|20090124065103.plt|2009-01-24 06:51:03|\n|39.893738|116.314578|   492.0|    135|20090124065103.plt|2009-01-24 06:51:05|\n|39.893912|116.314656|   492.0|    135|20090124065103.plt|2009-01-24 06:51:07|\n|39.893986|116.314658|   492.0|    135|20090124065103.plt|2009-01-24 06:51:09|\n|39.894005|116.314607|   492.0|    135|20090124065103.plt|2009-01-24 06:51:14|\n|39.894235|116.314686|   491.0|    135|20090124065103.plt|2009-01-24 06:51:19|\n|39.894316|116.314719|   491.0|    135|20090124065103.plt|2009-01-24 06:51:20|\n|39.894431|116.314778|   491.0|    135|20090124065103.plt|2009-01-24 06:51:21|\n|39.894967|116.315027|   491.0|    135|20090124065103.plt|2009-01-24 06:51:23|\n|39.895012|116.315051|   491.0|    135|20090124065103.plt|2009-01-24 06:51:24|\n+---------+----------+--------+-------+------------------+-------------------+\nonly showing top 10 rows\n\n"
     ]
    }
   ],
   "source": [
    "#----- Data Preprocessing -----#\n",
    "\n",
    "# Reading all .plt files as raw text\n",
    "raw = spark.read.text(\"dbfs:/FileStore/shared_uploads/psxss41@nottingham.ac.uk/Geolife Trajectories 1.3/Data/*/Trajectory/*.plt\") \\\n",
    "    .withColumn(\"file_path\", input_file_name())\n",
    "\n",
    "# Filtering out the first 6 lines (metadata) using known metadata prefixes\n",
    "filtered = raw.filter(~raw[\"value\"].startswith(\"WGS\")) \\\n",
    "              .filter(~raw[\"value\"].startswith(\"Altitude\")) \\\n",
    "              .filter(~raw[\"value\"].startswith(\"Reserved\")) \\\n",
    "              .filter(~raw[\"value\"].startswith(\"0,2,255\"))\n",
    "\n",
    "# Spliting the lines into columns\n",
    "parsed = filtered.withColumn(\"split\", split(col(\"value\"), \",\")) \\\n",
    "                 .filter(size(col(\"split\")) == 7) \\\n",
    "                 .select(\n",
    "                     col(\"file_path\"),\n",
    "                     col(\"split\")[0].cast(\"double\").alias(\"lat\"),\n",
    "                     col(\"split\")[1].cast(\"double\").alias(\"lon\"),\n",
    "                     col(\"split\")[3].cast(\"double\").alias(\"altitude\"),\n",
    "                     col(\"split\")[5].alias(\"date\"),\n",
    "                     col(\"split\")[6].alias(\"time\")\n",
    "                 )\n",
    "\n",
    "# Extracting user_id and traj_id from file_path\n",
    "df = parsed.withColumn(\"user_id\", regexp_extract(\"file_path\", r\"Data/(\\d{3})/\", 1)) \\\n",
    "                 .withColumn(\"traj_id\", regexp_extract(\"file_path\", r\"Trajectory/([^/]+\\.plt)\", 1)) \\\n",
    "                 .drop(\"file_path\")\n",
    "\n",
    "# Creating a timestamp\n",
    "df = df.withColumn(\"timestamp\", to_timestamp(concat_ws(\" \", \"date\", \"time\"), \"yyyy-MM-dd HH:mm:ss\"))\n",
    "df = df.drop(\"date\", \"time\")\n",
    "\n",
    "# Caching the result for performance\n",
    "df.cache().show(10)"
   ]
  },
  {
   "cell_type": "markdown",
   "metadata": {
    "application/vnd.databricks.v1+cell": {
     "cellMetadata": {},
     "inputWidgets": {},
     "nuid": "36c518c6-78ab-4943-a77c-b4992e58df02",
     "showTitle": false,
     "tableResultSettingsMap": {},
     "title": ""
    }
   },
   "source": [
    "### Filtering Short Trajectories\n",
    "\n",
    "This block ensures data quality by removing trajectories that are too short to be meaningful:\n",
    "\n",
    "- **Identifying Short Trajectories:** Counts the number of GPS points in each trajectory. Any trajectory with fewer than 10 points is considered too short.\n",
    "- **Filtering Criteria:** Retains only those trajectories that have **at least 10 data points**, as they provide enough information for meaningful clustering or analysis.\n",
    "- **Joining Back:** The original DataFrame is filtered to include only data points from the valid (longer) trajectories.\n",
    "\n",
    "This step helps reduce noise and improves the effectiveness of downstream trajectory clustering."
   ]
  },
  {
   "cell_type": "code",
   "execution_count": 0,
   "metadata": {
    "application/vnd.databricks.v1+cell": {
     "cellMetadata": {
      "byteLimit": 2048000,
      "rowLimit": 10000
     },
     "inputWidgets": {},
     "nuid": "7d96a20b-a7a5-4bf7-916d-587bfde2e03b",
     "showTitle": false,
     "tableResultSettingsMap": {},
     "title": ""
    }
   },
   "outputs": [
    {
     "output_type": "stream",
     "name": "stdout",
     "output_type": "stream",
     "text": [
      "Short trajectories: 98\n"
     ]
    }
   ],
   "source": [
    "# Counting points per trajectory\n",
    "short_trajs = df.groupBy(\"user_id\", \"traj_id\").count().filter(\"count < 10\")\n",
    "print(f\"Short trajectories: {short_trajs.count()}\")\n",
    "\n",
    "# Identifying trajectory segments that have at least 10 points\n",
    "valid_traj_ids = df.groupBy(\"user_id\", \"traj_id\").count().filter(\"count >= 10\")\n",
    "\n",
    "# Keeping only those rows in the original DataFrame that belong to valid trajectory segments\n",
    "df = df.join(valid_traj_ids.select(\"user_id\", \"traj_id\"), on=[\"user_id\", \"traj_id\"])"
   ]
  },
  {
   "cell_type": "markdown",
   "metadata": {
    "application/vnd.databricks.v1+cell": {
     "cellMetadata": {},
     "inputWidgets": {},
     "nuid": "1ab954bf-85ca-4a82-a197-93dd9b906a79",
     "showTitle": false,
     "tableResultSettingsMap": {},
     "title": ""
    }
   },
   "source": [
    "### Assigning Dynamic Spatial Zones\n",
    "\n",
    "This section assigns each GPS point in the dataset to a dynamically computed spatial grid zone:\n",
    "\n",
    "- A bounding box is defined to cover the latitude and longitude extent of the data (`lat_min` to `lat_max`, `lon_min` to `lon_max`).\n",
    "- This area is divided into a configurable number of latitude and longitude zones (`num_lat_zones × num_lon_zones`).\n",
    "- Each point is assigned a `zone_lat` and `zone_lon` based on its geographic coordinates.\n",
    "- A combined `zone` column is created using both `zone_lat` and `zone_lon` to uniquely identify each grid cell.\n",
    "\n",
    "This zoning helps in efficiently analyzing spatial patterns and enables zone-based clustering or partitioning."
   ]
  },
  {
   "cell_type": "code",
   "execution_count": 0,
   "metadata": {
    "application/vnd.databricks.v1+cell": {
     "cellMetadata": {
      "byteLimit": 2048000,
      "rowLimit": 10000
     },
     "inputWidgets": {},
     "nuid": "ac8b186a-491c-4883-a64a-6c7c6123ed5f",
     "showTitle": false,
     "tableResultSettingsMap": {},
     "title": ""
    }
   },
   "outputs": [
    {
     "output_type": "stream",
     "name": "stdout",
     "output_type": "stream",
     "text": [
      "+---------+----------+--------+--------+----+\n|      lat|       lon|zone_lat|zone_lon|zone|\n+---------+----------+--------+--------+----+\n|39.709669|116.335468|       2|       6| 2_6|\n|39.709395|116.335742|       2|       6| 2_6|\n|39.709132|116.336065|       2|       6| 2_6|\n|39.708881| 116.33636|       2|       6| 2_6|\n|39.708621|116.336662|       2|       6| 2_6|\n+---------+----------+--------+--------+----+\nonly showing top 5 rows\n\n"
     ]
    }
   ],
   "source": [
    "def assign_dynamic_zones(df, lat_min, lat_max, lon_min, lon_max, num_lat_zones, num_lon_zones):\n",
    "    # Calculating the step size for latitude and longitude zones\n",
    "    lat_step = (lat_max - lat_min) / num_lat_zones\n",
    "    lon_step = (lon_max - lon_min) / num_lon_zones\n",
    "\n",
    "    # Assigning each GPS point to a latitude and longitude zone based on its position\n",
    "    return df.withColumn(\"zone_lat\", floor((col(\"lat\") - lat_min) / lat_step)) \\\n",
    "             .withColumn(\"zone_lon\", floor((col(\"lon\") - lon_min) / lon_step)) \\\n",
    "             .withColumn(\"zone\", concat_ws(\"_\", col(\"zone_lat\"), col(\"zone_lon\")))\n",
    "\n",
    "# Defining bounding box and grid size\n",
    "lat_min, lat_max = 39.5, 40.5\n",
    "lon_min, lon_max = 115.5, 116.8\n",
    "num_lat_zones = 10\n",
    "num_lon_zones = 10\n",
    "\n",
    "# Applying zone assignment\n",
    "df = assign_dynamic_zones(df, lat_min, lat_max, lon_min, lon_max, num_lat_zones, num_lon_zones)\n",
    "\n",
    "# Verifying zone columns exist\n",
    "df.select(\"lat\", \"lon\", \"zone_lat\", \"zone_lon\", \"zone\").show(5)"
   ]
  },
  {
   "cell_type": "markdown",
   "metadata": {
    "application/vnd.databricks.v1+cell": {
     "cellMetadata": {},
     "inputWidgets": {},
     "nuid": "7e9276af-cb35-4d32-8248-615a0a439828",
     "showTitle": false,
     "tableResultSettingsMap": {},
     "title": ""
    }
   },
   "source": [
    "### Assigning Time Windows to Trajectory Points\n",
    "\n",
    "This block adds temporal context to each GPS point by assigning a part-of-day label:\n",
    "\n",
    "- The `hour` is extracted from the timestamp.\n",
    "- Based on the hour, a `time_window` column is added:\n",
    "  - **Morning**: 5 AM to 11:59 AM\n",
    "  - **Afternoon**: 12 PM to 4:59 PM\n",
    "  - **Evening**: 5 PM to 8:59 PM\n",
    "  - **Night**: 9 PM to 4:59 AM\n",
    "\n",
    "These labels help in analyzing user movement patterns across different parts of the day."
   ]
  },
  {
   "cell_type": "code",
   "execution_count": 0,
   "metadata": {
    "application/vnd.databricks.v1+cell": {
     "cellMetadata": {
      "byteLimit": 2048000,
      "rowLimit": 10000
     },
     "inputWidgets": {},
     "nuid": "035a9282-2244-4379-974e-68932c2e56cb",
     "showTitle": false,
     "tableResultSettingsMap": {},
     "title": ""
    }
   },
   "outputs": [],
   "source": [
    "# Assigning a part of day label based on the hour\n",
    "df = df.withColumn(\"hour\", hour(\"timestamp\")) \\\n",
    "       .withColumn(\"time_window\", when((col(\"hour\") >= 5) & (col(\"hour\") < 12), \"Morning\")\n",
    "                                 .when((col(\"hour\") >= 12) & (col(\"hour\") < 17), \"Afternoon\")\n",
    "                                 .when((col(\"hour\") >= 17) & (col(\"hour\") < 21), \"Evening\")\n",
    "                                 .otherwise(\"Night\"))"
   ]
  },
  {
   "cell_type": "markdown",
   "metadata": {
    "application/vnd.databricks.v1+cell": {
     "cellMetadata": {},
     "inputWidgets": {},
     "nuid": "1e176da2-72a5-45ab-9b4d-e6e69330185d",
     "showTitle": false,
     "tableResultSettingsMap": {},
     "title": ""
    }
   },
   "source": [
    "### Research Question 1  \n",
    "**How does TRACLUS compare to DBSCAN in terms of clustering quality for trajectory data?**\n",
    "\n",
    "---\n",
    "\n",
    "This section implements and evaluates two trajectory clustering algorithms—**DBSCAN** and **TRACLUS**—to compare their effectiveness on GPS trajectory datasets.\n",
    "\n",
    "1. **DBSCAN Implementation**\n",
    "   - Applied directly on GPS coordinates.\n",
    "   - Grouped points by spatial zones.\n",
    "   - Used clustering quality metrics: **Silhouette Score**, **Number of Clusters**, and **Noise Ratio**.\n",
    "   - Execution time recorded for runtime comparison.\n",
    "\n",
    "2. **TRACLUS Implementation**\n",
    "   - Trajectories were **segmented** using the **Minimum Description Length (MDL)** principle.\n",
    "   - Extracted line segments were clustered based on start and end coordinates.\n",
    "   - Same metrics as DBSCAN were computed for comparison.\n",
    "\n",
    "3. **Evaluation Metrics**\n",
    "   - **Silhouette Score**: Indicates clustering cohesion and separation.\n",
    "   - **Noise Ratio**: Percentage of unclustered (noise) points.\n",
    "   - **Runtime**: Total execution time to evaluate computational efficiency.\n",
    "   - **Number of Clusters**: Indicates clustering granularity.\n",
    "\n",
    "This directly addresses **Research Question 1** by quantitatively comparing DBSCAN and TRACLUS based on clustering quality and computational efficiency, allowing for insights into which algorithm performs better for spatial trajectory datasets."
   ]
  },
  {
   "cell_type": "markdown",
   "metadata": {
    "application/vnd.databricks.v1+cell": {
     "cellMetadata": {},
     "inputWidgets": {},
     "nuid": "61d52c9e-e9d9-488f-9e8e-8b0d9f42948a",
     "showTitle": false,
     "tableResultSettingsMap": {},
     "title": ""
    }
   },
   "source": [
    "### DBSCAN Clustering on a Spatial Zone\n",
    "\n",
    "This block performs DBSCAN clustering on a specific zone (`zone_lat = 3`, `zone_lon = 7`) from the trajectory data.\n",
    "\n",
    "- **DBSCAN Parameters**: `eps = 0.004`, `min_samples = 5`\n",
    "- A custom `pandas_udf` is defined to run DBSCAN on each partition (zone group).\n",
    "- The clustering is applied only to data points in zone 3_7.\n",
    "\n",
    "The results include latitude, longitude, cluster IDs, and relevant metadata for each point."
   ]
  },
  {
   "cell_type": "markdown",
   "metadata": {
    "application/vnd.databricks.v1+cell": {
     "cellMetadata": {},
     "inputWidgets": {},
     "nuid": "e159480c-683e-4698-b828-ff4ab0eaa348",
     "showTitle": false,
     "tableResultSettingsMap": {},
     "title": ""
    }
   },
   "source": [
    "### Evaluating DBSCAN Clustering Performance\n",
    "\n",
    "Once clustering is complete, the following performance metrics are computed:\n",
    "\n",
    "- **Runtime**: Total time taken to apply DBSCAN.\n",
    "- **Silhouette Score**: Calculated on a 5% sample (if at least 2 clusters exist).\n",
    "- **Noise Ratio**: Fraction of points marked as noise (`cluster_id = -1`).\n",
    "- **Number of Clusters**: Unique clusters detected (excluding noise).\n",
    "\n",
    "These metrics are stored in a dictionary `dbscan_result` for further comparison or reporting."
   ]
  },
  {
   "cell_type": "code",
   "execution_count": 0,
   "metadata": {
    "application/vnd.databricks.v1+cell": {
     "cellMetadata": {
      "byteLimit": 2048000,
      "rowLimit": 10000
     },
     "inputWidgets": {},
     "nuid": "5420fe43-21c2-48b2-aa9c-cf97ccf2dfd0",
     "showTitle": false,
     "tableResultSettingsMap": {},
     "title": ""
    }
   },
   "outputs": [
    {
     "output_type": "stream",
     "name": "stdout",
     "output_type": "stream",
     "text": [
      "{'algorithm': 'DBSCAN', 'eps': 0.004, 'min_samples': 5, 'runtime_sec': 4.39, 'silhouette': 0.3208, 'noise_ratio': 0.0, 'num_clusters': 6}\n"
     ]
    }
   ],
   "source": [
    "#----- DBScan -----#\n",
    "# Defining schema matching what the DBSCAN UDF returns\n",
    "schema = StructType([\n",
    "    StructField(\"user_id\", StringType()),\n",
    "    StructField(\"traj_id\", StringType()),\n",
    "    StructField(\"lat\", DoubleType()),\n",
    "    StructField(\"lon\", DoubleType()),\n",
    "    StructField(\"timestamp\", TimestampType()),\n",
    "    StructField(\"zone_lat\", IntegerType()),\n",
    "    StructField(\"zone_lon\", IntegerType()),\n",
    "    StructField(\"cluster_id\", IntegerType())\n",
    "])\n",
    "\n",
    "# DBSCAN UDF function\n",
    "def create_dbscan_udf(eps_val=0.004, min_samples_val=5):\n",
    "    @pandas_udf(schema, functionType=PandasUDFType.GROUPED_MAP)\n",
    "    def run_dbscan(pdf: pd.DataFrame) -> pd.DataFrame:\n",
    "        coords = pdf[[\"lat\", \"lon\"]].to_numpy()\n",
    "\n",
    "        if len(coords) >= min_samples_val:\n",
    "            db = DBSCAN(eps=eps_val, min_samples=min_samples_val).fit(coords)\n",
    "            pdf[\"cluster_id\"] = db.labels_\n",
    "        else:\n",
    "            pdf[\"cluster_id\"] = -1\n",
    "\n",
    "        return pdf[[\"user_id\", \"traj_id\", \"lat\", \"lon\", \"timestamp\", \"zone_lat\", \"zone_lon\", \"cluster_id\"]]\n",
    "    \n",
    "    return run_dbscan\n",
    "\n",
    "# Setting DBSCAN parameters\n",
    "eps_val = 0.004\n",
    "min_samples_val = 5\n",
    "dbscan_udf = create_dbscan_udf(eps_val, min_samples_val)\n",
    "\n",
    "# Tracking time\n",
    "start_time = time.time()\n",
    "\n",
    "# Applying DBSCAN to a filtered zone\n",
    "result = df.filter((col(\"zone_lat\") == 3) & (col(\"zone_lon\") == 7)) \\\n",
    "           .groupBy(\"zone_lat\", \"zone_lon\") \\\n",
    "           .apply(dbscan_udf)\n",
    "\n",
    "result.cache()\n",
    "\n",
    "# End time after clustering\n",
    "end_time = time.time()\n",
    "\n",
    "# Computing cluster quality metrics\n",
    "total_points = result.count()\n",
    "noise_points = result.filter(\"cluster_id == -1\").count()\n",
    "num_clusters = result.select(\"cluster_id\").distinct().filter(\"cluster_id != -1\").count()\n",
    "noise_ratio = noise_points / total_points if total_points > 0 else 0.0\n",
    "\n",
    "# Computing silhouette score on sample\n",
    "sample = result.filter(\"cluster_id != -1\").sample(fraction=0.05).toPandas()\n",
    "if sample[\"cluster_id\"].nunique() >= 2:\n",
    "    coords = StandardScaler().fit_transform(sample[[\"lat\", \"lon\"]])\n",
    "    sil_score = silhouette_score(coords, sample[\"cluster_id\"])\n",
    "else:\n",
    "    sil_score = -1\n",
    "\n",
    "# Storing in dictionary\n",
    "dbscan_result = {\n",
    "    \"algorithm\": \"DBSCAN\",\n",
    "    \"eps\": eps_val,\n",
    "    \"min_samples\": min_samples_val,\n",
    "    \"runtime_sec\": round(end_time - start_time, 2),\n",
    "    \"silhouette\": round(sil_score, 4),\n",
    "    \"noise_ratio\": round(noise_ratio, 4),\n",
    "    \"num_clusters\": num_clusters\n",
    "}\n",
    "\n",
    "# Output result\n",
    "print(dbscan_result)"
   ]
  },
  {
   "cell_type": "markdown",
   "metadata": {
    "application/vnd.databricks.v1+cell": {
     "cellMetadata": {},
     "inputWidgets": {},
     "nuid": "49dd1fea-ac28-4acf-87d0-2169785bec18",
     "showTitle": false,
     "tableResultSettingsMap": {},
     "title": ""
    }
   },
   "source": [
    "### TRACLUS Clustering with Trajectory Segmentation\n",
    "\n",
    "This cell performs TRACLUS-style trajectory clustering using a two-phase approach:\n",
    "\n",
    "1. **Trajectory Partitioning**  \n",
    "   - Each trajectory is split into line segments using the **Minimum Description Length (MDL)** principle.\n",
    "   - The `mdl_partition` function identifies change points by computing the average perpendicular distance between actual points and their approximated segment.\n",
    "\n",
    "2. **Segment Clustering**  \n",
    "   - Segments are then clustered using DBSCAN based on their start and end coordinates.\n",
    "   - A `pandas_udf` applies DBSCAN per user group, returning a cluster label for each segment.\n",
    "\n",
    "3. **Evaluation**  \n",
    "   - The runtime is tracked for performance comparison.\n",
    "   - A Silhouette Score is computed on a 10% sample (if there are at least 2 clusters), providing a measure of cluster quality.\n",
    "\n",
    "This method is useful for detecting patterns in movement behavior by analyzing how segments of different trajectories group spatially."
   ]
  },
  {
   "cell_type": "code",
   "execution_count": 0,
   "metadata": {
    "application/vnd.databricks.v1+cell": {
     "cellMetadata": {
      "byteLimit": 2048000,
      "rowLimit": 10000
     },
     "inputWidgets": {},
     "nuid": "2e39a000-b6e2-4308-b12c-c3edd5b0a400",
     "showTitle": false,
     "tableResultSettingsMap": {},
     "title": ""
    }
   },
   "outputs": [
    {
     "output_type": "stream",
     "name": "stdout",
     "output_type": "stream",
     "text": [
      "TRACLUS Silhouette Score: 0.1272\n"
     ]
    }
   ],
   "source": [
    "# TRACLUS\n",
    "# Functions for segmentation\n",
    "def point_line_distance(p, a, b):\n",
    "    a, b, p = np.array(a), np.array(b), np.array(p)\n",
    "    if np.all(a == b):\n",
    "        return np.linalg.norm(p - a)\n",
    "    return np.linalg.norm(np.cross(b - a, a - p)) / np.linalg.norm(b - a)\n",
    "\n",
    "def mdl_partition(trajectory, threshold=0.0005):\n",
    "    if len(trajectory) < 2:\n",
    "        return []\n",
    "    segments = []\n",
    "    start_idx = 0\n",
    "    while start_idx < len(trajectory) - 1:\n",
    "        end_idx = start_idx + 1\n",
    "        while end_idx < len(trajectory):\n",
    "            start = (trajectory[start_idx][\"lat\"], trajectory[start_idx][\"lon\"])\n",
    "            end = (trajectory[end_idx][\"lat\"], trajectory[end_idx][\"lon\"])\n",
    "            error = sum(\n",
    "                point_line_distance((p[\"lat\"], p[\"lon\"]), start, end)\n",
    "                for p in trajectory[start_idx+1:end_idx]\n",
    "            ) / (end_idx - start_idx)\n",
    "            if error > threshold:\n",
    "                break\n",
    "            end_idx += 1\n",
    "        segments.append((trajectory[start_idx], trajectory[end_idx-1]))\n",
    "        start_idx = end_idx - 1\n",
    "    return segments\n",
    "\n",
    "# Segment extraction UDF\n",
    "segment_schema = StructType([\n",
    "    StructField(\"user_id\", StringType()),\n",
    "    StructField(\"traj_id\", StringType()),\n",
    "    StructField(\"lat_start\", DoubleType()),\n",
    "    StructField(\"lon_start\", DoubleType()),\n",
    "    StructField(\"lat_end\", DoubleType()),\n",
    "    StructField(\"lon_end\", DoubleType())\n",
    "])\n",
    "\n",
    "@pandas_udf(segment_schema, functionType=PandasUDFType.GROUPED_MAP)\n",
    "def extract_segments(pdf: pd.DataFrame) -> pd.DataFrame:\n",
    "    segments = []\n",
    "    for _, row in pdf.iterrows():\n",
    "        for seg in mdl_partition(row[\"trajectory\"]):\n",
    "            segments.append({\n",
    "                \"user_id\": row[\"user_id\"],\n",
    "                \"traj_id\": row[\"traj_id\"],\n",
    "                \"lat_start\": seg[0][\"lat\"],\n",
    "                \"lon_start\": seg[0][\"lon\"],\n",
    "                \"lat_end\": seg[1][\"lat\"],\n",
    "                \"lon_end\": seg[1][\"lon\"]\n",
    "            })\n",
    "    return pd.DataFrame(segments)\n",
    "\n",
    "# Segment clustering UDF\n",
    "segment_cluster_schema = StructType([\n",
    "    StructField(\"user_id\", StringType()),\n",
    "    StructField(\"traj_id\", StringType()),\n",
    "    StructField(\"lat_start\", DoubleType()),\n",
    "    StructField(\"lon_start\", DoubleType()),\n",
    "    StructField(\"lat_end\", DoubleType()),\n",
    "    StructField(\"lon_end\", DoubleType()),\n",
    "    StructField(\"cluster_id\", IntegerType())\n",
    "])\n",
    "\n",
    "@pandas_udf(segment_cluster_schema, functionType=PandasUDFType.GROUPED_MAP)\n",
    "def cluster_segments(pdf: pd.DataFrame) -> pd.DataFrame:\n",
    "    coords = pdf[[\"lat_start\", \"lon_start\", \"lat_end\", \"lon_end\"]].to_numpy()\n",
    "    if len(coords) >= 5:\n",
    "        coords_scaled = StandardScaler().fit_transform(coords)\n",
    "        model = DBSCAN(eps=2.0, min_samples=2).fit(coords_scaled)\n",
    "        pdf[\"cluster_id\"] = model.labels_\n",
    "    else:\n",
    "        pdf[\"cluster_id\"] = -1\n",
    "    return pdf\n",
    "\n",
    "# start_time = time.time()\n",
    "# Execution Pipeline\n",
    "# Filter input DataFrame df (must be defined) to desired zones\n",
    "filtered_df = df.filter((col(\"zone_lat\").isin([3])) & (col(\"zone_lon\").isin([7])))\n",
    "\n",
    "# Creating trajectory arrays\n",
    "trajectory_df = filtered_df.orderBy(\"timestamp\").groupBy(\"user_id\", \"traj_id\") \\\n",
    "    .agg(collect_list(struct(\"lat\", \"lon\", \"timestamp\")).alias(\"trajectory\"))\n",
    "\n",
    "# Applying segment extraction\n",
    "segment_df = trajectory_df.groupby(\"user_id\", \"traj_id\").apply(extract_segments)\n",
    "\n",
    "# Applying segment clustering\n",
    "clustered_segments = segment_df.groupby(\"user_id\").apply(cluster_segments)\n",
    "clustered_segments.cache()\n",
    "clustered_segments.count()\n",
    "\n",
    "# Noise Ratio Calculation\n",
    "total_segments = clustered_segments.count()\n",
    "noise_segments = clustered_segments.filter(\"cluster_id == -1\").count()\n",
    "noise_ratio = round(noise_segments / total_segments, 4) if total_segments > 0 else 0.0\n",
    "\n",
    "runtime_sec = time.time() - start_time\n",
    "\n",
    "# Evaluation\n",
    "sample = clustered_segments.filter(\"cluster_id != -1\").sample(fraction=0.1).toPandas()\n",
    "if sample[\"cluster_id\"].nunique() >= 2:\n",
    "    coords = sample[[\"lat_start\", \"lon_start\", \"lat_end\", \"lon_end\"]].to_numpy()\n",
    "    coords_scaled = StandardScaler().fit_transform(coords)\n",
    "    sil_score = silhouette_score(coords_scaled, sample[\"cluster_id\"])\n",
    "else:\n",
    "    sil_score = -1\n",
    "\n",
    "print(f\"TRACLUS Silhouette Score: {sil_score:.4f}\")"
   ]
  },
  {
   "cell_type": "code",
   "execution_count": 0,
   "metadata": {
    "application/vnd.databricks.v1+cell": {
     "cellMetadata": {
      "byteLimit": 2048000,
      "rowLimit": 10000
     },
     "inputWidgets": {},
     "nuid": "de99379b-e0e3-4534-8285-23fb1ebcd711",
     "showTitle": false,
     "tableResultSettingsMap": {},
     "title": ""
    }
   },
   "outputs": [
    {
     "output_type": "stream",
     "name": "stdout",
     "output_type": "stream",
     "text": [
      "\nTRACLUS Results Dictionary:\n{'method': 'TRACLUS', 'zone_lat': 3, 'zone_lon': 7, 'eps': 4.0, 'min_samples': 3, 'runtime': 4977.776783704758, 'num_segments': 921, 'num_clusters': 4, 'silhouette': 0.1272, 'noise_ratio': 0.0695}\n"
     ]
    }
   ],
   "source": [
    "# 6. Collect TRACLUS evaluation results in a dictionary\n",
    "traclus_results = {\n",
    "    \"method\": \"TRACLUS\",\n",
    "    \"zone_lat\": 3,\n",
    "    \"zone_lon\": 7,\n",
    "    \"eps\": 4.0,                # from DBSCAN clustering step\n",
    "    \"min_samples\": 3,          # from DBSCAN clustering step\n",
    "    \"runtime\": runtime_sec,\n",
    "    \"num_segments\": clustered_segments.count(),\n",
    "    \"num_clusters\": clustered_segments.select(\"cluster_id\").distinct().count(),\n",
    "    \"silhouette\": round(sil_score, 4),\n",
    "    \"noise_ratio\": round(noise_ratio, 4)\n",
    "}\n",
    "\n",
    "print(\"\\nTRACLUS Results Dictionary:\")\n",
    "print(traclus_results)"
   ]
  },
  {
   "cell_type": "markdown",
   "metadata": {
    "application/vnd.databricks.v1+cell": {
     "cellMetadata": {},
     "inputWidgets": {},
     "nuid": "e630d32e-53ed-454d-b186-db1b272352ba",
     "showTitle": false,
     "tableResultSettingsMap": {},
     "title": ""
    }
   },
   "source": [
    "### Research Question 2  \n",
    "**How do different Spark partitioning strategies (region, user ID, time) affect performance and clustering outcomes?**\n",
    "\n",
    "---\n",
    "\n",
    "This block evaluates the effect of different partitioning strategies on the performance and quality of DBSCAN clustering over trajectory data. Here's what each part of the code does:\n",
    "\n",
    "1. **Schema Definition**  \n",
    "   A structured schema is defined to match the output of the DBSCAN clustering function, which includes user ID, trajectory ID, location coordinates, timestamp, partition key, and cluster ID.\n",
    "\n",
    "2. **DBSCAN UDF Creation**  \n",
    "   A `make_dbscan_udf` function wraps a custom DBSCAN clustering implementation in a `pandas_udf`. It scales the coordinates and clusters the points within each group defined by the chosen partition key.\n",
    "\n",
    "3. **Partition Key Assignment**  \n",
    "   The `add_partition_keys` function adds three partitioning strategies to the DataFrame:\n",
    "   - `region_key`: based on spatial zone grid (`zone_lat` and `zone_lon`)\n",
    "   - `user_id`: trajectory owner\n",
    "   - `time_key`: hour-of-day buckets\n",
    "\n",
    "4. **Evaluation Function**  \n",
    "   The `evaluate_partitioning` function:\n",
    "   - Adds the selected partition key to the DataFrame\n",
    "   - Performs stratified sampling by `partition_key`\n",
    "   - Applies DBSCAN clustering\n",
    "   - Computes clustering runtime and silhouette score for quality assessment\n",
    "\n",
    "5. **Grid Search Execution**  \n",
    "   The final loop tests combinations of DBSCAN hyperparameters (`eps` and `minpts`) across all three partitioning strategies (`region_key`, `user_id`, `time_key`). For each combination, it:\n",
    "   - Prints progress\n",
    "   - Evaluates clustering performance\n",
    "   - Appends results (including runtime and silhouette score) to a list for analysis\n",
    "\n",
    "This process helps assess how the choice of data partitioning impacts both computational efficiency and clustering quality."
   ]
  },
  {
   "cell_type": "code",
   "execution_count": 0,
   "metadata": {
    "application/vnd.databricks.v1+cell": {
     "cellMetadata": {
      "byteLimit": 2048000,
      "rowLimit": 10000
     },
     "inputWidgets": {},
     "nuid": "6f081f84-218c-461a-b437-74fec2e3a07c",
     "showTitle": false,
     "tableResultSettingsMap": {},
     "title": ""
    }
   },
   "outputs": [
    {
     "output_type": "stream",
     "name": "stdout",
     "output_type": "stream",
     "text": [
      "\nTesting: partition=region_key, eps=0.001, minpts=3\nEvaluating partitioning by: region_key\nRuntime: 16.55s, Silhouette Score: -0.3997\n\nTesting: partition=region_key, eps=0.001, minpts=5\nEvaluating partitioning by: region_key\nRuntime: 14.12s, Silhouette Score: -0.43\n\nTesting: partition=region_key, eps=0.001, minpts=8\nEvaluating partitioning by: region_key\nRuntime: 14.12s, Silhouette Score: -0.6089\n\nTesting: partition=region_key, eps=0.001, minpts=10\nEvaluating partitioning by: region_key\nRuntime: 97.82s, Silhouette Score: -0.2749\n\nTesting: partition=region_key, eps=0.003, minpts=3\nEvaluating partitioning by: region_key\nRuntime: 28.41s, Silhouette Score: -0.511\n\nTesting: partition=region_key, eps=0.003, minpts=5\nEvaluating partitioning by: region_key\nRuntime: 30.68s, Silhouette Score: -0.5706\n\nTesting: partition=region_key, eps=0.003, minpts=8\nEvaluating partitioning by: region_key\nRuntime: 14.07s, Silhouette Score: -0.5079\n\nTesting: partition=region_key, eps=0.003, minpts=10\nEvaluating partitioning by: region_key\nRuntime: 15.19s, Silhouette Score: -0.4619\n\nTesting: partition=region_key, eps=0.005, minpts=3\nEvaluating partitioning by: region_key\nRuntime: 13.79s, Silhouette Score: -0.6681\n\nTesting: partition=region_key, eps=0.005, minpts=5\nEvaluating partitioning by: region_key\nRuntime: 40.67s, Silhouette Score: -0.6024\n\nTesting: partition=region_key, eps=0.005, minpts=8\nEvaluating partitioning by: region_key\nRuntime: 19.07s, Silhouette Score: -0.628\n\nTesting: partition=region_key, eps=0.005, minpts=10\nEvaluating partitioning by: region_key\nRuntime: 18.05s, Silhouette Score: -0.6803\n\nTesting: partition=region_key, eps=0.01, minpts=3\nEvaluating partitioning by: region_key\nRuntime: 14.05s, Silhouette Score: -0.8236\n\nTesting: partition=region_key, eps=0.01, minpts=5\nEvaluating partitioning by: region_key\nRuntime: 14.01s, Silhouette Score: -0.7712\n\nTesting: partition=region_key, eps=0.01, minpts=8\nEvaluating partitioning by: region_key\nRuntime: 54.62s, Silhouette Score: -0.7597\n\nTesting: partition=region_key, eps=0.01, minpts=10\nEvaluating partitioning by: region_key\nRuntime: 66.24s, Silhouette Score: -0.7512\n\nTesting: partition=user_id, eps=0.001, minpts=3\nEvaluating partitioning by: user_id\nRuntime: 76.11s, Silhouette Score: -0.8975\n\nTesting: partition=user_id, eps=0.001, minpts=5\nEvaluating partitioning by: user_id\nRuntime: 41.05s, Silhouette Score: -0.8779\n\nTesting: partition=user_id, eps=0.001, minpts=8\nEvaluating partitioning by: user_id\nRuntime: 21.08s, Silhouette Score: -0.8871\n\nTesting: partition=user_id, eps=0.001, minpts=10\nEvaluating partitioning by: user_id\nRuntime: 11.25s, Silhouette Score: -0.8496\n\nTesting: partition=user_id, eps=0.003, minpts=3\nEvaluating partitioning by: user_id\nRuntime: 10.79s, Silhouette Score: -0.9043\n\nTesting: partition=user_id, eps=0.003, minpts=5\nEvaluating partitioning by: user_id\nRuntime: 10.85s, Silhouette Score: -0.8702\n\nTesting: partition=user_id, eps=0.003, minpts=8\nEvaluating partitioning by: user_id\nRuntime: 11.46s, Silhouette Score: -0.8787\n\nTesting: partition=user_id, eps=0.003, minpts=10\nEvaluating partitioning by: user_id\nRuntime: 10.94s, Silhouette Score: -0.886\n\nTesting: partition=user_id, eps=0.005, minpts=3\nEvaluating partitioning by: user_id\nRuntime: 10.6s, Silhouette Score: -0.8853\n\nTesting: partition=user_id, eps=0.005, minpts=5\nEvaluating partitioning by: user_id\nRuntime: 16.96s, Silhouette Score: -0.8927\n\nTesting: partition=user_id, eps=0.005, minpts=8\nEvaluating partitioning by: user_id\nRuntime: 10.87s, Silhouette Score: -0.9022\n\nTesting: partition=user_id, eps=0.005, minpts=10\nEvaluating partitioning by: user_id\nRuntime: 23.5s, Silhouette Score: -0.8929\n\nTesting: partition=user_id, eps=0.01, minpts=3\nEvaluating partitioning by: user_id\nRuntime: 17.99s, Silhouette Score: -0.8788\n\nTesting: partition=user_id, eps=0.01, minpts=5\nEvaluating partitioning by: user_id\nRuntime: 16.43s, Silhouette Score: -0.8833\n\nTesting: partition=user_id, eps=0.01, minpts=8\nEvaluating partitioning by: user_id\nRuntime: 10.82s, Silhouette Score: -0.8772\n\nTesting: partition=user_id, eps=0.01, minpts=10\nEvaluating partitioning by: user_id\nRuntime: 11.74s, Silhouette Score: -0.8757\n\nTesting: partition=time_key, eps=0.001, minpts=3\nEvaluating partitioning by: time_key\nRuntime: 12.46s, Silhouette Score: -0.7657\n\nTesting: partition=time_key, eps=0.001, minpts=5\nEvaluating partitioning by: time_key\nRuntime: 11.17s, Silhouette Score: -0.8208\n\nTesting: partition=time_key, eps=0.001, minpts=8\nEvaluating partitioning by: time_key\nRuntime: 11.38s, Silhouette Score: -0.695\n\nTesting: partition=time_key, eps=0.001, minpts=10\nEvaluating partitioning by: time_key\nRuntime: 11.06s, Silhouette Score: -0.8631\n\nTesting: partition=time_key, eps=0.003, minpts=3\nEvaluating partitioning by: time_key\nRuntime: 11.3s, Silhouette Score: -0.7379\n\nTesting: partition=time_key, eps=0.003, minpts=5\nEvaluating partitioning by: time_key\nRuntime: 11.28s, Silhouette Score: -0.4321\n\nTesting: partition=time_key, eps=0.003, minpts=8\nEvaluating partitioning by: time_key\nRuntime: 11.31s, Silhouette Score: -0.0186\n\nTesting: partition=time_key, eps=0.003, minpts=10\nEvaluating partitioning by: time_key\nRuntime: 17.08s, Silhouette Score: 0.085\n\nTesting: partition=time_key, eps=0.005, minpts=3\nEvaluating partitioning by: time_key\nRuntime: 12.05s, Silhouette Score: -0.6771\n\nTesting: partition=time_key, eps=0.005, minpts=5\nEvaluating partitioning by: time_key\nRuntime: 21.01s, Silhouette Score: -0.1785\n\nTesting: partition=time_key, eps=0.005, minpts=8\nEvaluating partitioning by: time_key\nRuntime: 12.99s, Silhouette Score: -0.2526\n\nTesting: partition=time_key, eps=0.005, minpts=10\nEvaluating partitioning by: time_key\nRuntime: 15.1s, Silhouette Score: -0.156\n\nTesting: partition=time_key, eps=0.01, minpts=3\nEvaluating partitioning by: time_key\nRuntime: 14.1s, Silhouette Score: -0.3815\n\nTesting: partition=time_key, eps=0.01, minpts=5\nEvaluating partitioning by: time_key\nRuntime: 28.96s, Silhouette Score: -0.4139\n\nTesting: partition=time_key, eps=0.01, minpts=8\nEvaluating partitioning by: time_key\nRuntime: 29.94s, Silhouette Score: 0.0955\n\nTesting: partition=time_key, eps=0.01, minpts=10\nEvaluating partitioning by: time_key\nRuntime: 27.43s, Silhouette Score: -0.1863\n"
     ]
    }
   ],
   "source": [
    "# Research Question 2\n",
    "# 1. Define schema\n",
    "schema = StructType([\n",
    "    StructField(\"user_id\", StringType()),\n",
    "    StructField(\"traj_id\", StringType()),\n",
    "    StructField(\"lat\", DoubleType()),\n",
    "    StructField(\"lon\", DoubleType()),\n",
    "    StructField(\"timestamp\", TimestampType()),\n",
    "    StructField(\"partition_key\", StringType()),\n",
    "    StructField(\"cluster_id\", IntegerType())\n",
    "])\n",
    "\n",
    "# 2. Define DBSCAN UDF\n",
    "def make_dbscan_udf(eps, minpts):\n",
    "    def dbscan_udf(pdf: pd.DataFrame) -> pd.DataFrame:\n",
    "        coords = pdf[[\"lat\", \"lon\"]].to_numpy()\n",
    "        if len(coords) >= minpts:\n",
    "            coords_scaled = StandardScaler().fit_transform(coords)\n",
    "            model = DBSCAN(eps=eps, min_samples=minpts).fit(coords_scaled)\n",
    "            pdf[\"cluster_id\"] = model.labels_\n",
    "        else:\n",
    "            pdf[\"cluster_id\"] = -1\n",
    "\n",
    "        # ✅ Keep only schema-matching columns\n",
    "        return pdf[[\n",
    "            \"user_id\", \"traj_id\", \"lat\", \"lon\", \"timestamp\", \"partition_key\", \"cluster_id\"\n",
    "        ]]\n",
    "    return dbscan_udf\n",
    "\n",
    "# 3. Add partition keys\n",
    "def add_partition_keys(df):\n",
    "    df = df.withColumn(\"hour\", hour(\"timestamp\"))\n",
    "    df = df.withColumn(\"region_key\", concat_ws(\"_\", col(\"zone_lat\"), col(\"zone_lon\")))\n",
    "    df = df.withColumn(\"time_key\", col(\"hour\").cast(\"string\"))\n",
    "    return df\n",
    "\n",
    "# 4. Evaluation function\n",
    "def evaluate_partitioning(df, key_col, eps=0.01, minpts=8, sample_frac=0.1):\n",
    "    print(f\"Evaluating partitioning by: {key_col}\")\n",
    "    start = time.time()\n",
    "    dbscan_udf = make_dbscan_udf(eps, minpts)\n",
    "\n",
    "    # Add key and sample early\n",
    "    df = df.withColumn(\"partition_key\", col(key_col))\n",
    "    # df_sampled = df.sample(fraction=sample_frac, seed=42)\n",
    "    df_sampled = df.sampleBy(\"partition_key\", fractions={k: 0.05 for k in df.select(\"partition_key\").distinct().rdd.flatMap(lambda x: x).collect()}, seed=42)\n",
    "\n",
    "    # Use applyInPandas with explicit schema\n",
    "    clustered = df_sampled.groupBy(\"partition_key\").applyInPandas(dbscan_udf, schema)\n",
    "    clustered.cache()\n",
    "    \n",
    "    runtime = round(time.time() - start, 2)\n",
    "\n",
    "    # Evaluate Silhouette Score\n",
    "    sample = clustered.filter(\"cluster_id != -1\").sample(fraction=0.05).toPandas()\n",
    "    if sample[\"cluster_id\"].nunique() > 1:\n",
    "        coords = StandardScaler().fit_transform(sample[[\"lat\", \"lon\"]])\n",
    "        sil_score = round(silhouette_score(coords, sample[\"cluster_id\"]), 4)\n",
    "    else:\n",
    "        sil_score = -1\n",
    "\n",
    "    print(f\"Runtime: {runtime}s, Silhouette Score: {sil_score}\")\n",
    "    return {\"strategy\": key_col, \"runtime\": runtime, \"silhouette\": sil_score}\n",
    "\n",
    "# 5. Run\n",
    "df = add_partition_keys(df)\n",
    "results = []\n",
    "\n",
    "for key in [\"region_key\", \"user_id\", \"time_key\"]:\n",
    "    for eps in [0.001, 0.003, 0.005, 0.01]:\n",
    "        for minpts in [3, 5, 8, 10]:\n",
    "            print(f\"\\nTesting: partition={key}, eps={eps}, minpts={minpts}\")\n",
    "            result = evaluate_partitioning(df, key_col=key, eps=eps, minpts=minpts, sample_frac=0.1)\n",
    "            result.update({\"eps\": eps, \"minpts\": minpts, \"partition\": key})\n",
    "            results.append(result)"
   ]
  },
  {
   "cell_type": "code",
   "execution_count": 0,
   "metadata": {
    "application/vnd.databricks.v1+cell": {
     "cellMetadata": {
      "byteLimit": 2048000,
      "rowLimit": 10000
     },
     "inputWidgets": {},
     "nuid": "8f7f1761-f2d0-49ed-874e-bcbd943f9a98",
     "showTitle": false,
     "tableResultSettingsMap": {},
     "title": ""
    }
   },
   "outputs": [
    {
     "output_type": "display_data",
     "data": {
      "image/png": "[encoded data removed]",
      "text/plain": [
       "<Figure size 800x600 with 2 Axes>"
      ]
     },
     "metadata": {},
     "output_type": "display_data"
    },
    {
     "output_type": "display_data",
     "data": {
      "image/png": "[encoded data removed]",
      "text/plain": [
       "<Figure size 800x600 with 2 Axes>"
      ]
     },
     "metadata": {},
     "output_type": "display_data"
    }
   ],
   "source": [
    "# Research Question 2 - Visualisation\n",
    "# Custom color map: red (worst) → orange → green (best)\n",
    "cmap = LinearSegmentedColormap.from_list(\"custom_heatmap\", [\"red\", \"orange\", \"green\"])\n",
    "\n",
    "# Convert your list of result dicts to DataFrame\n",
    "df_results = pd.DataFrame(results)\n",
    "\n",
    "# Filter out user_id partitioning\n",
    "df_results_filtered = df_results[df_results[\"partition\"] != \"user_id\"]\n",
    "\n",
    "# Generate heatmaps for remaining strategies\n",
    "for strategy in df_results_filtered['partition'].unique():\n",
    "    pivot = df_results_filtered[df_results_filtered['partition'] == strategy] \\\n",
    "        .pivot(index='eps', columns='minpts', values='silhouette')\n",
    "\n",
    "    plt.figure(figsize=(8, 6))\n",
    "    sns.heatmap(\n",
    "        pivot,\n",
    "        annot=True,\n",
    "        fmt=\".3f\",\n",
    "        cmap=cmap,\n",
    "        vmin=df_results_filtered['silhouette'].min(),\n",
    "        vmax=df_results_filtered['silhouette'].max(),\n",
    "        linewidths=0.5,\n",
    "        cbar_kws={'label': 'Silhouette Score'}\n",
    "    )\n",
    "    plt.title(f\"Silhouette Score Heatmap ({strategy})\")\n",
    "    plt.xlabel(\"minPts\")\n",
    "    plt.ylabel(\"eps\")\n",
    "    plt.tight_layout()\n",
    "    plt.show()"
   ]
  },
  {
   "cell_type": "markdown",
   "metadata": {
    "application/vnd.databricks.v1+cell": {
     "cellMetadata": {},
     "inputWidgets": {},
     "nuid": "7f4e6c1d-85c6-4022-adbc-1e7df5626558",
     "showTitle": false,
     "tableResultSettingsMap": {},
     "title": ""
    }
   },
   "source": [
    "### Research Question 3  \n",
    "**What is the trade-off between computational efficiency and clustering accuracy when using Euclidean vs DTW in distributed Spark?**\n",
    "\n",
    "---\n",
    "\n",
    "This blocks compares the performance and clustering results of DBSCAN using two different distance metrics: **Euclidean** and **Dynamic Time Warping (DTW)**.\n",
    "\n",
    "\n",
    "1. **DTW Distance Function**  \n",
    "   A manual implementation of DTW is used to calculate distances between two trajectories by measuring the optimal alignment path.\n",
    "\n",
    "2. **Interpolation**  \n",
    "   Since DTW requires equal-length sequences, each trajectory is interpolated to a fixed length (default: 20 points) using linear interpolation.\n",
    "\n",
    "3. **Clustering Function**  \n",
    "   A pairwise distance matrix is computed for all trajectories using either:\n",
    "   - Euclidean distance (fast but sensitive to sequence alignment),\n",
    "   - or DTW (slower but better for time-series similarity).\n",
    "   The distance matrix is passed to DBSCAN for clustering.\n",
    "\n",
    "4. **Evaluation Function**  \n",
    "   Trajectories are grouped, sampled, clustered, and timed to compare:\n",
    "   - Runtime (computational efficiency)\n",
    "   - Number of clusters found (a proxy for clustering granularity)\n",
    "\n",
    "5. **Final Execution**  \n",
    "   The evaluation is run separately for both distance metrics. The results are printed for direct comparison of runtime and clustering effectiveness.\n",
    "\n",
    "This implementation directly addresses **Research Question 3** by providing quantitative insights into the trade-offs between **speed (Euclidean)** and **accuracy (DTW)** in clustering GPS trajectory data on a distributed Spark setup."
   ]
  },
  {
   "cell_type": "code",
   "execution_count": 0,
   "metadata": {
    "application/vnd.databricks.v1+cell": {
     "cellMetadata": {
      "byteLimit": 2048000,
      "rowLimit": 10000
     },
     "inputWidgets": {},
     "nuid": "cfa41e67-16ee-4bb7-b371-f6f273f10264",
     "showTitle": false,
     "tableResultSettingsMap": {},
     "title": ""
    }
   },
   "outputs": [
    {
     "output_type": "stream",
     "name": "stdout",
     "output_type": "stream",
     "text": [
      "Euclidean Runtime: 97.55s, Clusters: 9\nDTW Runtime: 335.36s, Clusters: 8\n"
     ]
    }
   ],
   "source": [
    "# Research Question 3\n",
    "# 1. DTW Function\n",
    "def dtw_distance(ts_a, ts_b):\n",
    "    n, m = len(ts_a), len(ts_b)\n",
    "    dtw_matrix = np.full((n + 1, m + 1), np.inf)\n",
    "    dtw_matrix[0, 0] = 0\n",
    "    for i in range(1, n + 1):\n",
    "        for j in range(1, m + 1):\n",
    "            dist = np.linalg.norm(np.array(ts_a[i - 1]) - np.array(ts_b[j - 1]))\n",
    "            dtw_matrix[i, j] = dist + min(\n",
    "                dtw_matrix[i - 1, j], dtw_matrix[i, j - 1], dtw_matrix[i - 1, j - 1]\n",
    "            )\n",
    "    return dtw_matrix[n, m]\n",
    "\n",
    "# 2. Interpolation function to resample trajectories\n",
    "def interpolate_trajectory(traj, target_len=20):\n",
    "    if len(traj) < 2:\n",
    "        return [traj[0]] * target_len  # Repeat if not enough points\n",
    "\n",
    "    traj = np.array(traj)\n",
    "    original_idx = np.linspace(0, 1, num=len(traj))\n",
    "    interp_idx = np.linspace(0, 1, num=target_len)\n",
    "\n",
    "    lat_interp = interp1d(original_idx, traj[:, 0], kind=\"linear\")(interp_idx)\n",
    "    lon_interp = interp1d(original_idx, traj[:, 1], kind=\"linear\")(interp_idx)\n",
    "\n",
    "    return list(zip(lat_interp, lon_interp))\n",
    "\n",
    "# 3. Clustering function\n",
    "def cluster_trajectories(pdf, use_dtw=False, eps=5.0, min_samples=2):\n",
    "    trajs = pdf[\"trajectory\"].tolist()\n",
    "    traj_ids = pdf[\"traj_id\"].tolist()\n",
    "\n",
    "    # Interpolate to fixed length\n",
    "    vectors = [interpolate_trajectory([(p[\"lat\"], p[\"lon\"]) for p in traj], 20) for traj in trajs]\n",
    "\n",
    "    # Distance matrix\n",
    "    n = len(vectors)\n",
    "    dists = np.zeros((n, n))\n",
    "    for i in range(n):\n",
    "        for j in range(i+1, n):\n",
    "            if use_dtw:\n",
    "                d = dtw_distance(vectors[i], vectors[j])\n",
    "            else:\n",
    "                d = np.linalg.norm(np.array(vectors[i]).flatten() - np.array(vectors[j]).flatten())\n",
    "            dists[i, j] = dists[j, i] = d\n",
    "\n",
    "    model = DBSCAN(eps=eps, min_samples=min_samples, metric=\"precomputed\")\n",
    "    labels = model.fit_predict(dists)\n",
    "\n",
    "    return pd.DataFrame({\n",
    "        \"traj_id\": traj_ids,\n",
    "        \"cluster_id\": labels\n",
    "    })\n",
    "\n",
    "# 4. Evaluation function\n",
    "def evaluate_trajectory_clustering(df, use_dtw=False, sample_frac=0.1, eps=5.0, min_samples=2):\n",
    "    start = time.time()\n",
    "    traj_df = df.groupBy(\"traj_id\").agg(\n",
    "        collect_list(struct(\"lat\", \"lon\", \"timestamp\")).alias(\"trajectory\")\n",
    "    ).sample(fraction=sample_frac, seed=42)\n",
    "\n",
    "    pdf = traj_df.toPandas()\n",
    "    clustered_df = cluster_trajectories(pdf, use_dtw=use_dtw, eps=eps, min_samples=min_samples)\n",
    "\n",
    "    runtime = round(time.time() - start, 2)\n",
    "    n_clusters = len(set(clustered_df[\"cluster_id\"])) - (1 if -1 in clustered_df[\"cluster_id\"] else 0)\n",
    "\n",
    "    print(f\"{'DTW' if use_dtw else 'Euclidean'} Runtime: {runtime}s, Clusters: {n_clusters}\")\n",
    "    return clustered_df, runtime\n",
    "\n",
    "# 5. Run evaluations\n",
    "euclidean_result, euclidean_time = evaluate_trajectory_clustering(df, use_dtw=False, eps=10.0)\n",
    "dtw_result, dtw_time = evaluate_trajectory_clustering(df, use_dtw=True, eps=10.0)"
   ]
  },
  {
   "cell_type": "markdown",
   "metadata": {
    "application/vnd.databricks.v1+cell": {
     "cellMetadata": {
      "byteLimit": 2048000,
      "rowLimit": 10000
     },
     "inputWidgets": {},
     "nuid": "8ae44edb-436b-46bf-8557-194aa1956fd2",
     "showTitle": false,
     "tableResultSettingsMap": {},
     "title": ""
    }
   },
   "source": []
  }
 ],
 "metadata": {
  "application/vnd.databricks.v1+notebook": {
   "computePreferences": null,
   "dashboards": [],
   "environmentMetadata": null,
   "inputWidgetPreferences": null,
   "language": "python",
   "notebookMetadata": {
    "mostRecentlyExecutedCommandWithImplicitDF": {
     "commandId": 5093196733982557,
     "dataframes": [
      "_sqldf"
     ]
    },
    "pythonIndentUnit": 2
   },
   "notebookName": "Big_data_CW",
   "widgets": {}
  },
  "kernelspec": {
   "display_name": "Python 3 (ipykernel)",
   "language": "python",
   "name": "python3"
  },
  "language_info": {
   "name": "python"
  }
 },
 "nbformat": 4,
 "nbformat_minor": 0
}